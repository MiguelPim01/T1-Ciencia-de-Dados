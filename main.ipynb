{
  "cells": [
    {
      "cell_type": "markdown",
      "metadata": {
        "id": "jl-EVwtN9udm"
      },
      "source": [
        "# Trabalho Prático 1 de Ciência de Dados"
      ]
    },
    {
      "cell_type": "markdown",
      "metadata": {
        "id": "LWoZKCd49udn"
      },
      "source": [
        "## Download e leitura"
      ]
    },
    {
      "cell_type": "markdown",
      "metadata": {
        "id": "lalkCfkQ9udo"
      },
      "source": [
        "#### Download dos dados"
      ]
    },
    {
      "cell_type": "code",
      "execution_count": 1,
      "metadata": {
        "colab": {
          "base_uri": "https://localhost:8080/"
        },
        "id": "qNGADHRF9udo",
        "outputId": "b85b110d-d846-4520-e7ce-26e851a29e25"
      },
      "outputs": [
        {
          "name": "stdout",
          "output_type": "stream",
          "text": [
            "--2025-01-18 21:10:59--  https://docs.google.com/uc?export=download&id=1AeYgV89TmYvNC__RDXr8hS0P6WOsChWg\n",
            "Resolving docs.google.com (docs.google.com)... 2800:3f0:4004:80a::200e, 142.251.135.142\n",
            "Connecting to docs.google.com (docs.google.com)|2800:3f0:4004:80a::200e|:443... connected.\n",
            "HTTP request sent, awaiting response... 303 See Other\n",
            "Location: https://drive.usercontent.google.com/download?id=1AeYgV89TmYvNC__RDXr8hS0P6WOsChWg&export=download [following]\n",
            "--2025-01-18 21:11:01--  https://drive.usercontent.google.com/download?id=1AeYgV89TmYvNC__RDXr8hS0P6WOsChWg&export=download\n",
            "Resolving drive.usercontent.google.com (drive.usercontent.google.com)... 2800:3f0:4004:803::2001, 142.250.78.225\n",
            "Connecting to drive.usercontent.google.com (drive.usercontent.google.com)|2800:3f0:4004:803::2001|:443... connected.\n",
            "HTTP request sent, awaiting response... 200 OK\n",
            "Length: 11380332 (11M) [application/octet-stream]\n",
            "Saving to: ‘filmes.csv’\n",
            "\n",
            "filmes.csv          100%[===================>]  10,85M  4,57MB/s    in 2,4s    \n",
            "\n",
            "2025-01-18 21:11:11 (4,57 MB/s) - ‘filmes.csv’ saved [11380332/11380332]\n",
            "\n"
          ]
        }
      ],
      "source": [
        "!wget --no-check-certificate 'https://docs.google.com/uc?export=download&id=1AeYgV89TmYvNC__RDXr8hS0P6WOsChWg' -O filmes.csv"
      ]
    },
    {
      "cell_type": "markdown",
      "metadata": {
        "id": "k1dyPnSw9udp"
      },
      "source": [
        "#### Leitura dos dados"
      ]
    },
    {
      "cell_type": "code",
      "execution_count": 2,
      "metadata": {
        "colab": {
          "base_uri": "https://localhost:8080/",
          "height": 0
        },
        "id": "pbWhLJ_r9udp",
        "outputId": "d56f8dcc-e0bb-493d-f0d6-8571e41486f9"
      },
      "outputs": [
        {
          "data": {
            "text/html": [
              "<div>\n",
              "<style scoped>\n",
              "    .dataframe tbody tr th:only-of-type {\n",
              "        vertical-align: middle;\n",
              "    }\n",
              "\n",
              "    .dataframe tbody tr th {\n",
              "        vertical-align: top;\n",
              "    }\n",
              "\n",
              "    .dataframe thead th {\n",
              "        text-align: right;\n",
              "    }\n",
              "</style>\n",
              "<table border=\"1\" class=\"dataframe\">\n",
              "  <thead>\n",
              "    <tr style=\"text-align: right;\">\n",
              "      <th></th>\n",
              "      <th>genres</th>\n",
              "      <th>averageRating</th>\n",
              "      <th>numVotes</th>\n",
              "      <th>sinopse</th>\n",
              "      <th>primaryTitle</th>\n",
              "      <th>startYear</th>\n",
              "      <th>runtimeMinutes</th>\n",
              "      <th>actors_names</th>\n",
              "      <th>directors_names</th>\n",
              "    </tr>\n",
              "  </thead>\n",
              "  <tbody>\n",
              "    <tr>\n",
              "      <th>0</th>\n",
              "      <td>Family</td>\n",
              "      <td>7.1</td>\n",
              "      <td>387992</td>\n",
              "      <td>When two kids find and play a magical board ga...</td>\n",
              "      <td>Jumanji</td>\n",
              "      <td>1995</td>\n",
              "      <td>104</td>\n",
              "      <td>['Robin Williams' 'Jonathan Hyde' 'Jonathan Hy...</td>\n",
              "      <td>['Joe Johnston']</td>\n",
              "    </tr>\n",
              "    <tr>\n",
              "      <th>1</th>\n",
              "      <td>Romance</td>\n",
              "      <td>6.7</td>\n",
              "      <td>30265</td>\n",
              "      <td>John and Max resolve to save their beloved bai...</td>\n",
              "      <td>Grumpier Old Men</td>\n",
              "      <td>1995</td>\n",
              "      <td>101</td>\n",
              "      <td>['Walter Matthau' 'Jack Lemmon' 'Burgess Mered...</td>\n",
              "      <td>['Howard Deutch']</td>\n",
              "    </tr>\n",
              "    <tr>\n",
              "      <th>2</th>\n",
              "      <td>Romance</td>\n",
              "      <td>6.0</td>\n",
              "      <td>12585</td>\n",
              "      <td>Based on Terry McMillan's novel, this film fol...</td>\n",
              "      <td>Waiting to Exhale</td>\n",
              "      <td>1995</td>\n",
              "      <td>124</td>\n",
              "      <td>['Gregory Hines' 'Dennis Haysbert' 'Mykelti Wi...</td>\n",
              "      <td>['Forest Whitaker']</td>\n",
              "    </tr>\n",
              "    <tr>\n",
              "      <th>3</th>\n",
              "      <td>Romance,Family</td>\n",
              "      <td>6.1</td>\n",
              "      <td>42555</td>\n",
              "      <td>George Banks must deal not only with his daugh...</td>\n",
              "      <td>Father of the Bride Part II</td>\n",
              "      <td>1995</td>\n",
              "      <td>106</td>\n",
              "      <td>['Steve Martin' 'Martin Short' 'George Newbern...</td>\n",
              "      <td>['Charles Shyer']</td>\n",
              "    </tr>\n",
              "    <tr>\n",
              "      <th>4</th>\n",
              "      <td>Crime,Action</td>\n",
              "      <td>8.3</td>\n",
              "      <td>738636</td>\n",
              "      <td>A group of high-end professional thieves start...</td>\n",
              "      <td>Heat</td>\n",
              "      <td>1995</td>\n",
              "      <td>170</td>\n",
              "      <td>['Al Pacino' 'Robert De Niro' 'Val Kilmer' 'Jo...</td>\n",
              "      <td>['Michael Mann']</td>\n",
              "    </tr>\n",
              "  </tbody>\n",
              "</table>\n",
              "</div>"
            ],
            "text/plain": [
              "           genres  averageRating  numVotes  \\\n",
              "0          Family            7.1    387992   \n",
              "1         Romance            6.7     30265   \n",
              "2         Romance            6.0     12585   \n",
              "3  Romance,Family            6.1     42555   \n",
              "4    Crime,Action            8.3    738636   \n",
              "\n",
              "                                             sinopse  \\\n",
              "0  When two kids find and play a magical board ga...   \n",
              "1  John and Max resolve to save their beloved bai...   \n",
              "2  Based on Terry McMillan's novel, this film fol...   \n",
              "3  George Banks must deal not only with his daugh...   \n",
              "4  A group of high-end professional thieves start...   \n",
              "\n",
              "                  primaryTitle  startYear runtimeMinutes  \\\n",
              "0                      Jumanji       1995            104   \n",
              "1             Grumpier Old Men       1995            101   \n",
              "2            Waiting to Exhale       1995            124   \n",
              "3  Father of the Bride Part II       1995            106   \n",
              "4                         Heat       1995            170   \n",
              "\n",
              "                                        actors_names      directors_names  \n",
              "0  ['Robin Williams' 'Jonathan Hyde' 'Jonathan Hy...     ['Joe Johnston']  \n",
              "1  ['Walter Matthau' 'Jack Lemmon' 'Burgess Mered...    ['Howard Deutch']  \n",
              "2  ['Gregory Hines' 'Dennis Haysbert' 'Mykelti Wi...  ['Forest Whitaker']  \n",
              "3  ['Steve Martin' 'Martin Short' 'George Newbern...    ['Charles Shyer']  \n",
              "4  ['Al Pacino' 'Robert De Niro' 'Val Kilmer' 'Jo...     ['Michael Mann']  "
            ]
          },
          "execution_count": 2,
          "metadata": {},
          "output_type": "execute_result"
        }
      ],
      "source": [
        "import pandas as pd\n",
        "\n",
        "filmes_df = pd.read_csv(\"filmes.csv\")\n",
        "filmes_df.head()"
      ]
    },
    {
      "cell_type": "markdown",
      "metadata": {
        "id": "fv0ySubK9udp"
      },
      "source": [
        "## Pré-processamento dos dados"
      ]
    },
    {
      "cell_type": "code",
      "execution_count": 3,
      "metadata": {
        "colab": {
          "base_uri": "https://localhost:8080/"
        },
        "id": "Bv5-jBcP9udq",
        "outputId": "84d07c94-2f0d-4ed7-d29b-0b1e6225e657"
      },
      "outputs": [
        {
          "name": "stderr",
          "output_type": "stream",
          "text": [
            "[nltk_data] Downloading package punkt_tab to /home/miguel/nltk_data...\n",
            "[nltk_data]   Package punkt_tab is already up-to-date!\n"
          ]
        },
        {
          "data": {
            "text/plain": [
              "True"
            ]
          },
          "execution_count": 3,
          "metadata": {},
          "output_type": "execute_result"
        }
      ],
      "source": [
        "import nltk\n",
        "nltk.download(\"punkt_tab\")"
      ]
    },
    {
      "cell_type": "code",
      "execution_count": 4,
      "metadata": {
        "id": "QqfXaL2W9udq"
      },
      "outputs": [],
      "source": [
        "from nltk import sent_tokenize, word_tokenize"
      ]
    },
    {
      "cell_type": "markdown",
      "metadata": {
        "id": "SJOQkcyA9udq"
      },
      "source": [
        "#### Extrair sinopse do dataframe"
      ]
    },
    {
      "cell_type": "code",
      "execution_count": 5,
      "metadata": {
        "colab": {
          "base_uri": "https://localhost:8080/",
          "height": 241
        },
        "id": "NLj95-he9udr",
        "outputId": "a69aea65-0ea4-44f8-df1c-7ed60a7aaca6"
      },
      "outputs": [
        {
          "data": {
            "text/plain": [
              "0    When two kids find and play a magical board ga...\n",
              "1    John and Max resolve to save their beloved bai...\n",
              "2    Based on Terry McMillan's novel, this film fol...\n",
              "3    George Banks must deal not only with his daugh...\n",
              "4    A group of high-end professional thieves start...\n",
              "Name: sinopse, dtype: object"
            ]
          },
          "execution_count": 5,
          "metadata": {},
          "output_type": "execute_result"
        }
      ],
      "source": [
        "sinopses = filmes_df.sinopse\n",
        "sinopses.head()"
      ]
    },
    {
      "cell_type": "markdown",
      "metadata": {
        "id": "sC2KzABO9uds"
      },
      "source": [
        "#### Convertendo os tokens"
      ]
    },
    {
      "cell_type": "code",
      "execution_count": 6,
      "metadata": {
        "colab": {
          "base_uri": "https://localhost:8080/"
        },
        "id": "dUquhg7tEVK2",
        "outputId": "26c4fbf7-ae67-4c50-a947-a33bbd66a8f8"
      },
      "outputs": [
        {
          "name": "stdout",
          "output_type": "stream",
          "text": [
            "Requirement already satisfied: unidecode in /home/miguel/anaconda3/envs/data-science/lib/python3.13/site-packages (1.3.8)\n"
          ]
        }
      ],
      "source": [
        "!pip install unidecode"
      ]
    },
    {
      "cell_type": "code",
      "execution_count": 7,
      "metadata": {
        "id": "vcn72Two9uds"
      },
      "outputs": [],
      "source": [
        "import string\n",
        "import unidecode"
      ]
    },
    {
      "cell_type": "markdown",
      "metadata": {
        "id": "ouj0FkTT9uds"
      },
      "source": [
        "Convertendo todos os tokens para letras minúsculas"
      ]
    },
    {
      "cell_type": "code",
      "execution_count": 8,
      "metadata": {
        "id": "9cmLatQ-_cE0"
      },
      "outputs": [],
      "source": [
        "def tokens_low(tokens):\n",
        "  return [w.lower() for w in tokens]"
      ]
    },
    {
      "cell_type": "markdown",
      "metadata": {
        "id": "lsk6nwm19udt"
      },
      "source": [
        "Removendo os símbolos de pontuação"
      ]
    },
    {
      "cell_type": "code",
      "execution_count": 9,
      "metadata": {
        "id": "3swEDJZh9udt"
      },
      "outputs": [],
      "source": [
        "table = str.maketrans('', '', string.punctuation)"
      ]
    },
    {
      "cell_type": "code",
      "execution_count": 10,
      "metadata": {
        "id": "Xdzo9TB__sFj"
      },
      "outputs": [],
      "source": [
        "def tokens_pontuacao(tokens):\n",
        "  return [w.translate(table) for w in tokens]"
      ]
    },
    {
      "cell_type": "markdown",
      "metadata": {
        "id": "ClaD16nR9udt"
      },
      "source": [
        "Convertendo carcteres especiais"
      ]
    },
    {
      "cell_type": "code",
      "execution_count": 11,
      "metadata": {
        "id": "nwL-DhG7_3jz"
      },
      "outputs": [],
      "source": [
        "def tokens_char_especical(tokens):\n",
        "  return [unidecode.unidecode(w).lower() for w in tokens]"
      ]
    },
    {
      "cell_type": "markdown",
      "metadata": {
        "id": "FRsDEsN49udu"
      },
      "source": [
        "#### Filtrando apenas palavras"
      ]
    },
    {
      "cell_type": "markdown",
      "metadata": {
        "id": "qhQmWnr39udu"
      },
      "source": [
        "Extraindo apenas as palavras da lista de tokens"
      ]
    },
    {
      "cell_type": "code",
      "execution_count": 12,
      "metadata": {
        "id": "m4mI3inCAQrV"
      },
      "outputs": [],
      "source": [
        "def tokens_apenas_words(tokens):\n",
        "  return [word for word in tokens if word.isalpha()]"
      ]
    },
    {
      "cell_type": "markdown",
      "metadata": {
        "id": "7qzQnkQ99udu"
      },
      "source": [
        "Removendo stop words"
      ]
    },
    {
      "cell_type": "code",
      "execution_count": 13,
      "metadata": {
        "colab": {
          "base_uri": "https://localhost:8080/"
        },
        "id": "cSVCaNqi9udv",
        "outputId": "18122700-03c0-4440-90c2-4a38de6a68b2"
      },
      "outputs": [
        {
          "name": "stderr",
          "output_type": "stream",
          "text": [
            "[nltk_data] Downloading package stopwords to /home/miguel/nltk_data...\n",
            "[nltk_data]   Package stopwords is already up-to-date!\n"
          ]
        },
        {
          "data": {
            "text/plain": [
              "True"
            ]
          },
          "execution_count": 13,
          "metadata": {},
          "output_type": "execute_result"
        }
      ],
      "source": [
        "from nltk.corpus import stopwords\n",
        "nltk.download('stopwords')"
      ]
    },
    {
      "cell_type": "code",
      "execution_count": 14,
      "metadata": {
        "id": "1Sbzxjgk9udv"
      },
      "outputs": [],
      "source": [
        "stop_words = set(stopwords.words('english'))"
      ]
    },
    {
      "cell_type": "code",
      "execution_count": 15,
      "metadata": {
        "id": "G0B3uW0EAatt"
      },
      "outputs": [],
      "source": [
        "def tokens_stop_words(tokens):\n",
        "  return [word for word in tokens if not word in stop_words]"
      ]
    },
    {
      "cell_type": "markdown",
      "metadata": {
        "id": "mvzi9H9Z9udv"
      },
      "source": [
        "#### Stemming"
      ]
    },
    {
      "cell_type": "code",
      "execution_count": 16,
      "metadata": {
        "id": "6jTUe8Dp9udv"
      },
      "outputs": [],
      "source": [
        "from nltk.stem.porter import PorterStemmer"
      ]
    },
    {
      "cell_type": "code",
      "execution_count": 17,
      "metadata": {
        "id": "dIg5h1Th9udw"
      },
      "outputs": [],
      "source": [
        "porter = PorterStemmer()"
      ]
    },
    {
      "cell_type": "code",
      "execution_count": 18,
      "metadata": {
        "id": "be5lQ9AOAq6U"
      },
      "outputs": [],
      "source": [
        "def tokens_stemming(tokens):\n",
        "  return [porter.stem(word) for word in tokens]"
      ]
    },
    {
      "cell_type": "markdown",
      "metadata": {
        "id": "2trPUg-s-DaC"
      },
      "source": [
        "#### Tokenizer Personalizado"
      ]
    },
    {
      "cell_type": "code",
      "execution_count": 19,
      "metadata": {
        "id": "mGq09Lsm-8aE"
      },
      "outputs": [],
      "source": [
        "def tokenizer_personalizado(texto):\n",
        "  tokens = word_tokenize(texto)\n",
        "\n",
        "  tokens = tokens_low(tokens)\n",
        "  tokens = tokens_pontuacao(tokens)\n",
        "  tokens = tokens_char_especical(tokens)\n",
        "  tokens = tokens_apenas_words(tokens)\n",
        "  tokens = tokens_stop_words(tokens)\n",
        "  tokens = tokens_stemming(tokens)\n",
        "\n",
        "  return tokens"
      ]
    },
    {
      "cell_type": "markdown",
      "metadata": {
        "id": "Gpur0nfX9udw"
      },
      "source": [
        "## Construção da matriz de TF-IDF"
      ]
    },
    {
      "cell_type": "code",
      "execution_count": 20,
      "metadata": {
        "id": "SuMT0nDCBotc"
      },
      "outputs": [],
      "source": [
        "from sklearn.feature_extraction.text import TfidfVectorizer"
      ]
    },
    {
      "cell_type": "code",
      "execution_count": 21,
      "metadata": {
        "id": "lK-QvF2mKQbv"
      },
      "outputs": [],
      "source": [
        "# Cada linha do array é uma sinopse\n",
        "D = [sin for sin in filmes_df.sinopse]"
      ]
    },
    {
      "cell_type": "markdown",
      "metadata": {
        "id": "TizqH7P4RNG7"
      },
      "source": [
        "### Usando Tokenizer Personalizado"
      ]
    },
    {
      "cell_type": "code",
      "execution_count": 22,
      "metadata": {
        "colab": {
          "base_uri": "https://localhost:8080/"
        },
        "id": "d2nVjHgtDLC1",
        "outputId": "5e34a269-67e3-430e-b829-576aa5387fad"
      },
      "outputs": [
        {
          "name": "stderr",
          "output_type": "stream",
          "text": [
            "/home/miguel/anaconda3/envs/data-science/lib/python3.13/site-packages/sklearn/feature_extraction/text.py:517: UserWarning: The parameter 'token_pattern' will not be used since 'tokenizer' is not None'\n",
            "  warnings.warn(\n"
          ]
        }
      ],
      "source": [
        "vectorizer = TfidfVectorizer(tokenizer=tokenizer_personalizado)\n",
        "X = vectorizer.fit_transform(D)"
      ]
    },
    {
      "cell_type": "code",
      "execution_count": 23,
      "metadata": {
        "colab": {
          "base_uri": "https://localhost:8080/"
        },
        "id": "3L74Y8w-EiQ9",
        "outputId": "0a846f00-12c0-4fa8-b938-aa567a58578d"
      },
      "outputs": [
        {
          "data": {
            "text/plain": [
              "matrix([[0., 0., 0., ..., 0., 0., 0.],\n",
              "        [0., 0., 0., ..., 0., 0., 0.],\n",
              "        [0., 0., 0., ..., 0., 0., 0.],\n",
              "        ...,\n",
              "        [0., 0., 0., ..., 0., 0., 0.],\n",
              "        [0., 0., 0., ..., 0., 0., 0.],\n",
              "        [0., 0., 0., ..., 0., 0., 0.]])"
            ]
          },
          "execution_count": 23,
          "metadata": {},
          "output_type": "execute_result"
        }
      ],
      "source": [
        "X.todense()"
      ]
    },
    {
      "cell_type": "code",
      "execution_count": 24,
      "metadata": {
        "colab": {
          "base_uri": "https://localhost:8080/"
        },
        "id": "KJzpVqnnEoyl",
        "outputId": "526fa7b2-75da-4d08-da79-0bd71b09be4c"
      },
      "outputs": [
        {
          "data": {
            "text/plain": [
              "array(['aa', 'aadhavan', 'aadhi', ..., 'zylberberg', 'zylberstein',\n",
              "       'zyto'], dtype=object)"
            ]
          },
          "execution_count": 24,
          "metadata": {},
          "output_type": "execute_result"
        }
      ],
      "source": [
        "vectorizer.get_feature_names_out()"
      ]
    },
    {
      "cell_type": "code",
      "execution_count": 25,
      "metadata": {
        "colab": {
          "base_uri": "https://localhost:8080/",
          "height": 444
        },
        "collapsed": true,
        "id": "DF5AaJnlEqXd",
        "outputId": "e494a665-ef89-4edc-e44b-bb79e91fa5d9"
      },
      "outputs": [
        {
          "data": {
            "text/html": [
              "<div>\n",
              "<style scoped>\n",
              "    .dataframe tbody tr th:only-of-type {\n",
              "        vertical-align: middle;\n",
              "    }\n",
              "\n",
              "    .dataframe tbody tr th {\n",
              "        vertical-align: top;\n",
              "    }\n",
              "\n",
              "    .dataframe thead th {\n",
              "        text-align: right;\n",
              "    }\n",
              "</style>\n",
              "<table border=\"1\" class=\"dataframe\">\n",
              "  <thead>\n",
              "    <tr style=\"text-align: right;\">\n",
              "      <th></th>\n",
              "      <th>aa</th>\n",
              "      <th>aadhavan</th>\n",
              "      <th>aadhi</th>\n",
              "      <th>aakansha</th>\n",
              "      <th>aakash</th>\n",
              "      <th>aaliya</th>\n",
              "      <th>aalst</th>\n",
              "      <th>aaltonen</th>\n",
              "      <th>aamir</th>\n",
              "      <th>aang</th>\n",
              "      <th>...</th>\n",
              "      <th>zuzu</th>\n",
              "      <th>zvezda</th>\n",
              "      <th>zweig</th>\n",
              "      <th>zydruna</th>\n",
              "      <th>zyga</th>\n",
              "      <th>zygon</th>\n",
              "      <th>zyl</th>\n",
              "      <th>zylberberg</th>\n",
              "      <th>zylberstein</th>\n",
              "      <th>zyto</th>\n",
              "    </tr>\n",
              "  </thead>\n",
              "  <tbody>\n",
              "    <tr>\n",
              "      <th>0</th>\n",
              "      <td>0.0</td>\n",
              "      <td>0.0</td>\n",
              "      <td>0.0</td>\n",
              "      <td>0.0</td>\n",
              "      <td>0.0</td>\n",
              "      <td>0.0</td>\n",
              "      <td>0.0</td>\n",
              "      <td>0.0</td>\n",
              "      <td>0.0</td>\n",
              "      <td>0.0</td>\n",
              "      <td>...</td>\n",
              "      <td>0.0</td>\n",
              "      <td>0.0</td>\n",
              "      <td>0.0</td>\n",
              "      <td>0.0</td>\n",
              "      <td>0.0</td>\n",
              "      <td>0.0</td>\n",
              "      <td>0.0</td>\n",
              "      <td>0.0</td>\n",
              "      <td>0.0</td>\n",
              "      <td>0.0</td>\n",
              "    </tr>\n",
              "    <tr>\n",
              "      <th>1</th>\n",
              "      <td>0.0</td>\n",
              "      <td>0.0</td>\n",
              "      <td>0.0</td>\n",
              "      <td>0.0</td>\n",
              "      <td>0.0</td>\n",
              "      <td>0.0</td>\n",
              "      <td>0.0</td>\n",
              "      <td>0.0</td>\n",
              "      <td>0.0</td>\n",
              "      <td>0.0</td>\n",
              "      <td>...</td>\n",
              "      <td>0.0</td>\n",
              "      <td>0.0</td>\n",
              "      <td>0.0</td>\n",
              "      <td>0.0</td>\n",
              "      <td>0.0</td>\n",
              "      <td>0.0</td>\n",
              "      <td>0.0</td>\n",
              "      <td>0.0</td>\n",
              "      <td>0.0</td>\n",
              "      <td>0.0</td>\n",
              "    </tr>\n",
              "    <tr>\n",
              "      <th>2</th>\n",
              "      <td>0.0</td>\n",
              "      <td>0.0</td>\n",
              "      <td>0.0</td>\n",
              "      <td>0.0</td>\n",
              "      <td>0.0</td>\n",
              "      <td>0.0</td>\n",
              "      <td>0.0</td>\n",
              "      <td>0.0</td>\n",
              "      <td>0.0</td>\n",
              "      <td>0.0</td>\n",
              "      <td>...</td>\n",
              "      <td>0.0</td>\n",
              "      <td>0.0</td>\n",
              "      <td>0.0</td>\n",
              "      <td>0.0</td>\n",
              "      <td>0.0</td>\n",
              "      <td>0.0</td>\n",
              "      <td>0.0</td>\n",
              "      <td>0.0</td>\n",
              "      <td>0.0</td>\n",
              "      <td>0.0</td>\n",
              "    </tr>\n",
              "    <tr>\n",
              "      <th>3</th>\n",
              "      <td>0.0</td>\n",
              "      <td>0.0</td>\n",
              "      <td>0.0</td>\n",
              "      <td>0.0</td>\n",
              "      <td>0.0</td>\n",
              "      <td>0.0</td>\n",
              "      <td>0.0</td>\n",
              "      <td>0.0</td>\n",
              "      <td>0.0</td>\n",
              "      <td>0.0</td>\n",
              "      <td>...</td>\n",
              "      <td>0.0</td>\n",
              "      <td>0.0</td>\n",
              "      <td>0.0</td>\n",
              "      <td>0.0</td>\n",
              "      <td>0.0</td>\n",
              "      <td>0.0</td>\n",
              "      <td>0.0</td>\n",
              "      <td>0.0</td>\n",
              "      <td>0.0</td>\n",
              "      <td>0.0</td>\n",
              "    </tr>\n",
              "    <tr>\n",
              "      <th>4</th>\n",
              "      <td>0.0</td>\n",
              "      <td>0.0</td>\n",
              "      <td>0.0</td>\n",
              "      <td>0.0</td>\n",
              "      <td>0.0</td>\n",
              "      <td>0.0</td>\n",
              "      <td>0.0</td>\n",
              "      <td>0.0</td>\n",
              "      <td>0.0</td>\n",
              "      <td>0.0</td>\n",
              "      <td>...</td>\n",
              "      <td>0.0</td>\n",
              "      <td>0.0</td>\n",
              "      <td>0.0</td>\n",
              "      <td>0.0</td>\n",
              "      <td>0.0</td>\n",
              "      <td>0.0</td>\n",
              "      <td>0.0</td>\n",
              "      <td>0.0</td>\n",
              "      <td>0.0</td>\n",
              "      <td>0.0</td>\n",
              "    </tr>\n",
              "    <tr>\n",
              "      <th>...</th>\n",
              "      <td>...</td>\n",
              "      <td>...</td>\n",
              "      <td>...</td>\n",
              "      <td>...</td>\n",
              "      <td>...</td>\n",
              "      <td>...</td>\n",
              "      <td>...</td>\n",
              "      <td>...</td>\n",
              "      <td>...</td>\n",
              "      <td>...</td>\n",
              "      <td>...</td>\n",
              "      <td>...</td>\n",
              "      <td>...</td>\n",
              "      <td>...</td>\n",
              "      <td>...</td>\n",
              "      <td>...</td>\n",
              "      <td>...</td>\n",
              "      <td>...</td>\n",
              "      <td>...</td>\n",
              "      <td>...</td>\n",
              "      <td>...</td>\n",
              "    </tr>\n",
              "    <tr>\n",
              "      <th>30353</th>\n",
              "      <td>0.0</td>\n",
              "      <td>0.0</td>\n",
              "      <td>0.0</td>\n",
              "      <td>0.0</td>\n",
              "      <td>0.0</td>\n",
              "      <td>0.0</td>\n",
              "      <td>0.0</td>\n",
              "      <td>0.0</td>\n",
              "      <td>0.0</td>\n",
              "      <td>0.0</td>\n",
              "      <td>...</td>\n",
              "      <td>0.0</td>\n",
              "      <td>0.0</td>\n",
              "      <td>0.0</td>\n",
              "      <td>0.0</td>\n",
              "      <td>0.0</td>\n",
              "      <td>0.0</td>\n",
              "      <td>0.0</td>\n",
              "      <td>0.0</td>\n",
              "      <td>0.0</td>\n",
              "      <td>0.0</td>\n",
              "    </tr>\n",
              "    <tr>\n",
              "      <th>30354</th>\n",
              "      <td>0.0</td>\n",
              "      <td>0.0</td>\n",
              "      <td>0.0</td>\n",
              "      <td>0.0</td>\n",
              "      <td>0.0</td>\n",
              "      <td>0.0</td>\n",
              "      <td>0.0</td>\n",
              "      <td>0.0</td>\n",
              "      <td>0.0</td>\n",
              "      <td>0.0</td>\n",
              "      <td>...</td>\n",
              "      <td>0.0</td>\n",
              "      <td>0.0</td>\n",
              "      <td>0.0</td>\n",
              "      <td>0.0</td>\n",
              "      <td>0.0</td>\n",
              "      <td>0.0</td>\n",
              "      <td>0.0</td>\n",
              "      <td>0.0</td>\n",
              "      <td>0.0</td>\n",
              "      <td>0.0</td>\n",
              "    </tr>\n",
              "    <tr>\n",
              "      <th>30355</th>\n",
              "      <td>0.0</td>\n",
              "      <td>0.0</td>\n",
              "      <td>0.0</td>\n",
              "      <td>0.0</td>\n",
              "      <td>0.0</td>\n",
              "      <td>0.0</td>\n",
              "      <td>0.0</td>\n",
              "      <td>0.0</td>\n",
              "      <td>0.0</td>\n",
              "      <td>0.0</td>\n",
              "      <td>...</td>\n",
              "      <td>0.0</td>\n",
              "      <td>0.0</td>\n",
              "      <td>0.0</td>\n",
              "      <td>0.0</td>\n",
              "      <td>0.0</td>\n",
              "      <td>0.0</td>\n",
              "      <td>0.0</td>\n",
              "      <td>0.0</td>\n",
              "      <td>0.0</td>\n",
              "      <td>0.0</td>\n",
              "    </tr>\n",
              "    <tr>\n",
              "      <th>30356</th>\n",
              "      <td>0.0</td>\n",
              "      <td>0.0</td>\n",
              "      <td>0.0</td>\n",
              "      <td>0.0</td>\n",
              "      <td>0.0</td>\n",
              "      <td>0.0</td>\n",
              "      <td>0.0</td>\n",
              "      <td>0.0</td>\n",
              "      <td>0.0</td>\n",
              "      <td>0.0</td>\n",
              "      <td>...</td>\n",
              "      <td>0.0</td>\n",
              "      <td>0.0</td>\n",
              "      <td>0.0</td>\n",
              "      <td>0.0</td>\n",
              "      <td>0.0</td>\n",
              "      <td>0.0</td>\n",
              "      <td>0.0</td>\n",
              "      <td>0.0</td>\n",
              "      <td>0.0</td>\n",
              "      <td>0.0</td>\n",
              "    </tr>\n",
              "    <tr>\n",
              "      <th>30357</th>\n",
              "      <td>0.0</td>\n",
              "      <td>0.0</td>\n",
              "      <td>0.0</td>\n",
              "      <td>0.0</td>\n",
              "      <td>0.0</td>\n",
              "      <td>0.0</td>\n",
              "      <td>0.0</td>\n",
              "      <td>0.0</td>\n",
              "      <td>0.0</td>\n",
              "      <td>0.0</td>\n",
              "      <td>...</td>\n",
              "      <td>0.0</td>\n",
              "      <td>0.0</td>\n",
              "      <td>0.0</td>\n",
              "      <td>0.0</td>\n",
              "      <td>0.0</td>\n",
              "      <td>0.0</td>\n",
              "      <td>0.0</td>\n",
              "      <td>0.0</td>\n",
              "      <td>0.0</td>\n",
              "      <td>0.0</td>\n",
              "    </tr>\n",
              "  </tbody>\n",
              "</table>\n",
              "<p>30358 rows × 33435 columns</p>\n",
              "</div>"
            ],
            "text/plain": [
              "        aa  aadhavan  aadhi  aakansha  aakash  aaliya  aalst  aaltonen  aamir  \\\n",
              "0      0.0       0.0    0.0       0.0     0.0     0.0    0.0       0.0    0.0   \n",
              "1      0.0       0.0    0.0       0.0     0.0     0.0    0.0       0.0    0.0   \n",
              "2      0.0       0.0    0.0       0.0     0.0     0.0    0.0       0.0    0.0   \n",
              "3      0.0       0.0    0.0       0.0     0.0     0.0    0.0       0.0    0.0   \n",
              "4      0.0       0.0    0.0       0.0     0.0     0.0    0.0       0.0    0.0   \n",
              "...    ...       ...    ...       ...     ...     ...    ...       ...    ...   \n",
              "30353  0.0       0.0    0.0       0.0     0.0     0.0    0.0       0.0    0.0   \n",
              "30354  0.0       0.0    0.0       0.0     0.0     0.0    0.0       0.0    0.0   \n",
              "30355  0.0       0.0    0.0       0.0     0.0     0.0    0.0       0.0    0.0   \n",
              "30356  0.0       0.0    0.0       0.0     0.0     0.0    0.0       0.0    0.0   \n",
              "30357  0.0       0.0    0.0       0.0     0.0     0.0    0.0       0.0    0.0   \n",
              "\n",
              "       aang  ...  zuzu  zvezda  zweig  zydruna  zyga  zygon  zyl  zylberberg  \\\n",
              "0       0.0  ...   0.0     0.0    0.0      0.0   0.0    0.0  0.0         0.0   \n",
              "1       0.0  ...   0.0     0.0    0.0      0.0   0.0    0.0  0.0         0.0   \n",
              "2       0.0  ...   0.0     0.0    0.0      0.0   0.0    0.0  0.0         0.0   \n",
              "3       0.0  ...   0.0     0.0    0.0      0.0   0.0    0.0  0.0         0.0   \n",
              "4       0.0  ...   0.0     0.0    0.0      0.0   0.0    0.0  0.0         0.0   \n",
              "...     ...  ...   ...     ...    ...      ...   ...    ...  ...         ...   \n",
              "30353   0.0  ...   0.0     0.0    0.0      0.0   0.0    0.0  0.0         0.0   \n",
              "30354   0.0  ...   0.0     0.0    0.0      0.0   0.0    0.0  0.0         0.0   \n",
              "30355   0.0  ...   0.0     0.0    0.0      0.0   0.0    0.0  0.0         0.0   \n",
              "30356   0.0  ...   0.0     0.0    0.0      0.0   0.0    0.0  0.0         0.0   \n",
              "30357   0.0  ...   0.0     0.0    0.0      0.0   0.0    0.0  0.0         0.0   \n",
              "\n",
              "       zylberstein  zyto  \n",
              "0              0.0   0.0  \n",
              "1              0.0   0.0  \n",
              "2              0.0   0.0  \n",
              "3              0.0   0.0  \n",
              "4              0.0   0.0  \n",
              "...            ...   ...  \n",
              "30353          0.0   0.0  \n",
              "30354          0.0   0.0  \n",
              "30355          0.0   0.0  \n",
              "30356          0.0   0.0  \n",
              "30357          0.0   0.0  \n",
              "\n",
              "[30358 rows x 33435 columns]"
            ]
          },
          "execution_count": 25,
          "metadata": {},
          "output_type": "execute_result"
        }
      ],
      "source": [
        "df = pd.DataFrame(X.todense(), columns = vectorizer.get_feature_names_out())\n",
        "df"
      ]
    },
    {
      "cell_type": "markdown",
      "metadata": {
        "id": "rTC3rpodRg7K"
      },
      "source": [
        "### Usando o Padrão da Bibilioteca"
      ]
    },
    {
      "cell_type": "code",
      "execution_count": 26,
      "metadata": {
        "id": "CE6OV8kWRrpV"
      },
      "outputs": [],
      "source": [
        "vectorizer = TfidfVectorizer()\n",
        "X = vectorizer.fit_transform(D)"
      ]
    },
    {
      "cell_type": "code",
      "execution_count": 27,
      "metadata": {
        "colab": {
          "base_uri": "https://localhost:8080/"
        },
        "id": "s_sEATAcR1Gy",
        "outputId": "356afaa2-7876-45e8-8782-07c9cb197ee8"
      },
      "outputs": [
        {
          "data": {
            "text/plain": [
              "matrix([[0., 0., 0., ..., 0., 0., 0.],\n",
              "        [0., 0., 0., ..., 0., 0., 0.],\n",
              "        [0., 0., 0., ..., 0., 0., 0.],\n",
              "        ...,\n",
              "        [0., 0., 0., ..., 0., 0., 0.],\n",
              "        [0., 0., 0., ..., 0., 0., 0.],\n",
              "        [0., 0., 0., ..., 0., 0., 0.]])"
            ]
          },
          "execution_count": 27,
          "metadata": {},
          "output_type": "execute_result"
        }
      ],
      "source": [
        "X.todense()"
      ]
    },
    {
      "cell_type": "code",
      "execution_count": 28,
      "metadata": {
        "colab": {
          "base_uri": "https://localhost:8080/"
        },
        "id": "ka7yYbwgR19K",
        "outputId": "97c959b6-3d68-40a9-9e90-d677b67f84df"
      },
      "outputs": [
        {
          "data": {
            "text/plain": [
              "array(['00', '000', '007', ..., 'único', 'úrsulo', 'über'], dtype=object)"
            ]
          },
          "execution_count": 28,
          "metadata": {},
          "output_type": "execute_result"
        }
      ],
      "source": [
        "vectorizer.get_feature_names_out()"
      ]
    },
    {
      "cell_type": "code",
      "execution_count": 29,
      "metadata": {
        "colab": {
          "base_uri": "https://localhost:8080/",
          "height": 424
        },
        "id": "PIySJrH_R3zS",
        "outputId": "130d5742-314b-45ed-b8ab-1b4d9bf598d6"
      },
      "outputs": [
        {
          "data": {
            "text/html": [
              "<div>\n",
              "<style scoped>\n",
              "    .dataframe tbody tr th:only-of-type {\n",
              "        vertical-align: middle;\n",
              "    }\n",
              "\n",
              "    .dataframe tbody tr th {\n",
              "        vertical-align: top;\n",
              "    }\n",
              "\n",
              "    .dataframe thead th {\n",
              "        text-align: right;\n",
              "    }\n",
              "</style>\n",
              "<table border=\"1\" class=\"dataframe\">\n",
              "  <thead>\n",
              "    <tr style=\"text-align: right;\">\n",
              "      <th></th>\n",
              "      <th>00</th>\n",
              "      <th>000</th>\n",
              "      <th>007</th>\n",
              "      <th>009</th>\n",
              "      <th>09</th>\n",
              "      <th>10</th>\n",
              "      <th>100</th>\n",
              "      <th>1000</th>\n",
              "      <th>1000s</th>\n",
              "      <th>100k</th>\n",
              "      <th>...</th>\n",
              "      <th>émilien</th>\n",
              "      <th>émond</th>\n",
              "      <th>époque</th>\n",
              "      <th>état</th>\n",
              "      <th>étienne</th>\n",
              "      <th>óscar</th>\n",
              "      <th>öznur</th>\n",
              "      <th>único</th>\n",
              "      <th>úrsulo</th>\n",
              "      <th>über</th>\n",
              "    </tr>\n",
              "  </thead>\n",
              "  <tbody>\n",
              "    <tr>\n",
              "      <th>0</th>\n",
              "      <td>0.0</td>\n",
              "      <td>0.0</td>\n",
              "      <td>0.0</td>\n",
              "      <td>0.0</td>\n",
              "      <td>0.0</td>\n",
              "      <td>0.0</td>\n",
              "      <td>0.0</td>\n",
              "      <td>0.0</td>\n",
              "      <td>0.0</td>\n",
              "      <td>0.0</td>\n",
              "      <td>...</td>\n",
              "      <td>0.0</td>\n",
              "      <td>0.0</td>\n",
              "      <td>0.0</td>\n",
              "      <td>0.0</td>\n",
              "      <td>0.0</td>\n",
              "      <td>0.0</td>\n",
              "      <td>0.0</td>\n",
              "      <td>0.0</td>\n",
              "      <td>0.0</td>\n",
              "      <td>0.0</td>\n",
              "    </tr>\n",
              "    <tr>\n",
              "      <th>1</th>\n",
              "      <td>0.0</td>\n",
              "      <td>0.0</td>\n",
              "      <td>0.0</td>\n",
              "      <td>0.0</td>\n",
              "      <td>0.0</td>\n",
              "      <td>0.0</td>\n",
              "      <td>0.0</td>\n",
              "      <td>0.0</td>\n",
              "      <td>0.0</td>\n",
              "      <td>0.0</td>\n",
              "      <td>...</td>\n",
              "      <td>0.0</td>\n",
              "      <td>0.0</td>\n",
              "      <td>0.0</td>\n",
              "      <td>0.0</td>\n",
              "      <td>0.0</td>\n",
              "      <td>0.0</td>\n",
              "      <td>0.0</td>\n",
              "      <td>0.0</td>\n",
              "      <td>0.0</td>\n",
              "      <td>0.0</td>\n",
              "    </tr>\n",
              "    <tr>\n",
              "      <th>2</th>\n",
              "      <td>0.0</td>\n",
              "      <td>0.0</td>\n",
              "      <td>0.0</td>\n",
              "      <td>0.0</td>\n",
              "      <td>0.0</td>\n",
              "      <td>0.0</td>\n",
              "      <td>0.0</td>\n",
              "      <td>0.0</td>\n",
              "      <td>0.0</td>\n",
              "      <td>0.0</td>\n",
              "      <td>...</td>\n",
              "      <td>0.0</td>\n",
              "      <td>0.0</td>\n",
              "      <td>0.0</td>\n",
              "      <td>0.0</td>\n",
              "      <td>0.0</td>\n",
              "      <td>0.0</td>\n",
              "      <td>0.0</td>\n",
              "      <td>0.0</td>\n",
              "      <td>0.0</td>\n",
              "      <td>0.0</td>\n",
              "    </tr>\n",
              "    <tr>\n",
              "      <th>3</th>\n",
              "      <td>0.0</td>\n",
              "      <td>0.0</td>\n",
              "      <td>0.0</td>\n",
              "      <td>0.0</td>\n",
              "      <td>0.0</td>\n",
              "      <td>0.0</td>\n",
              "      <td>0.0</td>\n",
              "      <td>0.0</td>\n",
              "      <td>0.0</td>\n",
              "      <td>0.0</td>\n",
              "      <td>...</td>\n",
              "      <td>0.0</td>\n",
              "      <td>0.0</td>\n",
              "      <td>0.0</td>\n",
              "      <td>0.0</td>\n",
              "      <td>0.0</td>\n",
              "      <td>0.0</td>\n",
              "      <td>0.0</td>\n",
              "      <td>0.0</td>\n",
              "      <td>0.0</td>\n",
              "      <td>0.0</td>\n",
              "    </tr>\n",
              "    <tr>\n",
              "      <th>4</th>\n",
              "      <td>0.0</td>\n",
              "      <td>0.0</td>\n",
              "      <td>0.0</td>\n",
              "      <td>0.0</td>\n",
              "      <td>0.0</td>\n",
              "      <td>0.0</td>\n",
              "      <td>0.0</td>\n",
              "      <td>0.0</td>\n",
              "      <td>0.0</td>\n",
              "      <td>0.0</td>\n",
              "      <td>...</td>\n",
              "      <td>0.0</td>\n",
              "      <td>0.0</td>\n",
              "      <td>0.0</td>\n",
              "      <td>0.0</td>\n",
              "      <td>0.0</td>\n",
              "      <td>0.0</td>\n",
              "      <td>0.0</td>\n",
              "      <td>0.0</td>\n",
              "      <td>0.0</td>\n",
              "      <td>0.0</td>\n",
              "    </tr>\n",
              "    <tr>\n",
              "      <th>...</th>\n",
              "      <td>...</td>\n",
              "      <td>...</td>\n",
              "      <td>...</td>\n",
              "      <td>...</td>\n",
              "      <td>...</td>\n",
              "      <td>...</td>\n",
              "      <td>...</td>\n",
              "      <td>...</td>\n",
              "      <td>...</td>\n",
              "      <td>...</td>\n",
              "      <td>...</td>\n",
              "      <td>...</td>\n",
              "      <td>...</td>\n",
              "      <td>...</td>\n",
              "      <td>...</td>\n",
              "      <td>...</td>\n",
              "      <td>...</td>\n",
              "      <td>...</td>\n",
              "      <td>...</td>\n",
              "      <td>...</td>\n",
              "      <td>...</td>\n",
              "    </tr>\n",
              "    <tr>\n",
              "      <th>30353</th>\n",
              "      <td>0.0</td>\n",
              "      <td>0.0</td>\n",
              "      <td>0.0</td>\n",
              "      <td>0.0</td>\n",
              "      <td>0.0</td>\n",
              "      <td>0.0</td>\n",
              "      <td>0.0</td>\n",
              "      <td>0.0</td>\n",
              "      <td>0.0</td>\n",
              "      <td>0.0</td>\n",
              "      <td>...</td>\n",
              "      <td>0.0</td>\n",
              "      <td>0.0</td>\n",
              "      <td>0.0</td>\n",
              "      <td>0.0</td>\n",
              "      <td>0.0</td>\n",
              "      <td>0.0</td>\n",
              "      <td>0.0</td>\n",
              "      <td>0.0</td>\n",
              "      <td>0.0</td>\n",
              "      <td>0.0</td>\n",
              "    </tr>\n",
              "    <tr>\n",
              "      <th>30354</th>\n",
              "      <td>0.0</td>\n",
              "      <td>0.0</td>\n",
              "      <td>0.0</td>\n",
              "      <td>0.0</td>\n",
              "      <td>0.0</td>\n",
              "      <td>0.0</td>\n",
              "      <td>0.0</td>\n",
              "      <td>0.0</td>\n",
              "      <td>0.0</td>\n",
              "      <td>0.0</td>\n",
              "      <td>...</td>\n",
              "      <td>0.0</td>\n",
              "      <td>0.0</td>\n",
              "      <td>0.0</td>\n",
              "      <td>0.0</td>\n",
              "      <td>0.0</td>\n",
              "      <td>0.0</td>\n",
              "      <td>0.0</td>\n",
              "      <td>0.0</td>\n",
              "      <td>0.0</td>\n",
              "      <td>0.0</td>\n",
              "    </tr>\n",
              "    <tr>\n",
              "      <th>30355</th>\n",
              "      <td>0.0</td>\n",
              "      <td>0.0</td>\n",
              "      <td>0.0</td>\n",
              "      <td>0.0</td>\n",
              "      <td>0.0</td>\n",
              "      <td>0.0</td>\n",
              "      <td>0.0</td>\n",
              "      <td>0.0</td>\n",
              "      <td>0.0</td>\n",
              "      <td>0.0</td>\n",
              "      <td>...</td>\n",
              "      <td>0.0</td>\n",
              "      <td>0.0</td>\n",
              "      <td>0.0</td>\n",
              "      <td>0.0</td>\n",
              "      <td>0.0</td>\n",
              "      <td>0.0</td>\n",
              "      <td>0.0</td>\n",
              "      <td>0.0</td>\n",
              "      <td>0.0</td>\n",
              "      <td>0.0</td>\n",
              "    </tr>\n",
              "    <tr>\n",
              "      <th>30356</th>\n",
              "      <td>0.0</td>\n",
              "      <td>0.0</td>\n",
              "      <td>0.0</td>\n",
              "      <td>0.0</td>\n",
              "      <td>0.0</td>\n",
              "      <td>0.0</td>\n",
              "      <td>0.0</td>\n",
              "      <td>0.0</td>\n",
              "      <td>0.0</td>\n",
              "      <td>0.0</td>\n",
              "      <td>...</td>\n",
              "      <td>0.0</td>\n",
              "      <td>0.0</td>\n",
              "      <td>0.0</td>\n",
              "      <td>0.0</td>\n",
              "      <td>0.0</td>\n",
              "      <td>0.0</td>\n",
              "      <td>0.0</td>\n",
              "      <td>0.0</td>\n",
              "      <td>0.0</td>\n",
              "      <td>0.0</td>\n",
              "    </tr>\n",
              "    <tr>\n",
              "      <th>30357</th>\n",
              "      <td>0.0</td>\n",
              "      <td>0.0</td>\n",
              "      <td>0.0</td>\n",
              "      <td>0.0</td>\n",
              "      <td>0.0</td>\n",
              "      <td>0.0</td>\n",
              "      <td>0.0</td>\n",
              "      <td>0.0</td>\n",
              "      <td>0.0</td>\n",
              "      <td>0.0</td>\n",
              "      <td>...</td>\n",
              "      <td>0.0</td>\n",
              "      <td>0.0</td>\n",
              "      <td>0.0</td>\n",
              "      <td>0.0</td>\n",
              "      <td>0.0</td>\n",
              "      <td>0.0</td>\n",
              "      <td>0.0</td>\n",
              "      <td>0.0</td>\n",
              "      <td>0.0</td>\n",
              "      <td>0.0</td>\n",
              "    </tr>\n",
              "  </tbody>\n",
              "</table>\n",
              "<p>30358 rows × 41366 columns</p>\n",
              "</div>"
            ],
            "text/plain": [
              "        00  000  007  009   09   10  100  1000  1000s  100k  ...  émilien  \\\n",
              "0      0.0  0.0  0.0  0.0  0.0  0.0  0.0   0.0    0.0   0.0  ...      0.0   \n",
              "1      0.0  0.0  0.0  0.0  0.0  0.0  0.0   0.0    0.0   0.0  ...      0.0   \n",
              "2      0.0  0.0  0.0  0.0  0.0  0.0  0.0   0.0    0.0   0.0  ...      0.0   \n",
              "3      0.0  0.0  0.0  0.0  0.0  0.0  0.0   0.0    0.0   0.0  ...      0.0   \n",
              "4      0.0  0.0  0.0  0.0  0.0  0.0  0.0   0.0    0.0   0.0  ...      0.0   \n",
              "...    ...  ...  ...  ...  ...  ...  ...   ...    ...   ...  ...      ...   \n",
              "30353  0.0  0.0  0.0  0.0  0.0  0.0  0.0   0.0    0.0   0.0  ...      0.0   \n",
              "30354  0.0  0.0  0.0  0.0  0.0  0.0  0.0   0.0    0.0   0.0  ...      0.0   \n",
              "30355  0.0  0.0  0.0  0.0  0.0  0.0  0.0   0.0    0.0   0.0  ...      0.0   \n",
              "30356  0.0  0.0  0.0  0.0  0.0  0.0  0.0   0.0    0.0   0.0  ...      0.0   \n",
              "30357  0.0  0.0  0.0  0.0  0.0  0.0  0.0   0.0    0.0   0.0  ...      0.0   \n",
              "\n",
              "       émond  époque  état  étienne  óscar  öznur  único  úrsulo  über  \n",
              "0        0.0     0.0   0.0      0.0    0.0    0.0    0.0     0.0   0.0  \n",
              "1        0.0     0.0   0.0      0.0    0.0    0.0    0.0     0.0   0.0  \n",
              "2        0.0     0.0   0.0      0.0    0.0    0.0    0.0     0.0   0.0  \n",
              "3        0.0     0.0   0.0      0.0    0.0    0.0    0.0     0.0   0.0  \n",
              "4        0.0     0.0   0.0      0.0    0.0    0.0    0.0     0.0   0.0  \n",
              "...      ...     ...   ...      ...    ...    ...    ...     ...   ...  \n",
              "30353    0.0     0.0   0.0      0.0    0.0    0.0    0.0     0.0   0.0  \n",
              "30354    0.0     0.0   0.0      0.0    0.0    0.0    0.0     0.0   0.0  \n",
              "30355    0.0     0.0   0.0      0.0    0.0    0.0    0.0     0.0   0.0  \n",
              "30356    0.0     0.0   0.0      0.0    0.0    0.0    0.0     0.0   0.0  \n",
              "30357    0.0     0.0   0.0      0.0    0.0    0.0    0.0     0.0   0.0  \n",
              "\n",
              "[30358 rows x 41366 columns]"
            ]
          },
          "execution_count": 29,
          "metadata": {},
          "output_type": "execute_result"
        }
      ],
      "source": [
        "df = pd.DataFrame(X.todense(), columns = vectorizer.get_feature_names_out())\n",
        "df"
      ]
    },
    {
      "cell_type": "markdown",
      "metadata": {
        "id": "BOH-rSfZ9udx"
      },
      "source": [
        "## Redução de dimensionalidade"
      ]
    }
  ],
  "metadata": {
    "colab": {
      "provenance": []
    },
    "kernelspec": {
      "display_name": "data-science",
      "language": "python",
      "name": "python3"
    },
    "language_info": {
      "codemirror_mode": {
        "name": "ipython",
        "version": 3
      },
      "file_extension": ".py",
      "mimetype": "text/x-python",
      "name": "python",
      "nbconvert_exporter": "python",
      "pygments_lexer": "ipython3",
      "version": "3.13.0"
    }
  },
  "nbformat": 4,
  "nbformat_minor": 0
}
